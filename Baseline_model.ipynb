{
 "cells": [
  {
   "cell_type": "markdown",
   "metadata": {},
   "source": [
    "This notebook aims to reproduce the results of the following paper:\n",
    "\n",
    "[1] Obeid, Dina, Hugo Ramambason, and Cengiz Pehlevan. \"Structured and Deep Similarity Matching via Structured and Deep Hebbian Networks.\" Advances in Neural Information Processing Systems. 2019.\n",
    "\n",
    "Link to paper: https://openreview.net/pdf?id=Skea6rre8r"
   ]
  },
  {
   "cell_type": "code",
   "execution_count": 1,
   "metadata": {},
   "outputs": [],
   "source": [
    "using Pkg; for p in (\"Knet\",\"IterTools\",\"Plots\",\"LIBSVM\"); haskey(Pkg.installed(),p) || Pkg.add(p); end\n",
    "using Base.Iterators: flatten\n",
    "using IterTools: ncycle, takenth\n",
    "using Statistics: mean\n",
    "using Knet: Knet, conv4, AutoGrad, param, param0,\n",
    "        pool, mat, KnetArray, nll, zeroone, progress, param, param0, dropout, relu, Data, gpu, accuracy, \n",
    "        adagrad, dir, adam, Data, Param, @diff, value, params, grad, progress, progress!, gpu, KnetArray, load, save, sgd\n",
    "using StatsBase\n",
    "using LIBSVM"
   ]
  },
  {
   "cell_type": "code",
   "execution_count": 2,
   "metadata": {},
   "outputs": [
    {
     "data": {
      "text/plain": [
       "true"
      ]
     },
     "execution_count": 2,
     "metadata": {},
     "output_type": "execute_result"
    }
   ],
   "source": [
    "gpu() >= 0"
   ]
  },
  {
   "cell_type": "code",
   "execution_count": 3,
   "metadata": {},
   "outputs": [
    {
     "name": "stderr",
     "output_type": "stream",
     "text": [
      "┌ Info: Loading MNIST...\n",
      "└ @ Main /kuacc/users/merveoral17/.julia/packages/Knet/vxHRi/data/mnist.jl:33\n"
     ]
    },
    {
     "data": {
      "text/plain": [
       "Linear(P(KnetArray{Float32,2}(10,784)), P(KnetArray{Float32,1}(10)))"
      ]
     },
     "execution_count": 3,
     "metadata": {},
     "output_type": "execute_result"
    }
   ],
   "source": [
    "#Define one layer of MLP as struct\n",
    "struct Linear\n",
    "    w;\n",
    "    b;\n",
    "end\n",
    "    \n",
    "# Load data\n",
    "include(Knet.dir(\"data\",\"mnist.jl\"))  # Load data\n",
    "if gpu() >= 0  # gpu() returns a device id >= 0 if there is a GPU, -1 otherwise\n",
    "    atype = KnetArray{Float32}  # KnetArrays are stored and operated in the GPU\n",
    "    dtrn,dtst = mnistdata(batchsize=1;xsize=(784,:),xtype=atype) # The setting is online so batchsize is set to 1.\n",
    "    \n",
    "    # Create constructor for Linear layer as Param\n",
    "    Linear(i::Int,o::Int,scale=0.01) = Linear(Param(atype(scale * randn(o,i))), Param(atype(zeros(o))))\n",
    "    # initialize MLP \n",
    "    model = Linear(784,10)\n",
    "end"
   ]
  },
  {
   "cell_type": "code",
   "execution_count": 4,
   "metadata": {},
   "outputs": [],
   "source": [
    "# Returns output of the MLP\n",
    "(m::Linear)(x) = m.w * x .+ m.b"
   ]
  },
  {
   "cell_type": "code",
   "execution_count": 5,
   "metadata": {},
   "outputs": [],
   "source": [
    "# Loss function for MLP\n",
    "(m::Linear)(x, y) = Knet.nll(m(x), y)"
   ]
  },
  {
   "cell_type": "code",
   "execution_count": 6,
   "metadata": {},
   "outputs": [],
   "source": [
    "# Returns average loss on a dataset\n",
    "(m::Linear)(data::Data) = mean(m(x,y) for (x,y) in data)"
   ]
  },
  {
   "cell_type": "code",
   "execution_count": 10,
   "metadata": {},
   "outputs": [
    {
     "data": {
      "text/plain": [
       "trainresults (generic function with 1 method)"
      ]
     },
     "execution_count": 10,
     "metadata": {},
     "output_type": "execute_result"
    }
   ],
   "source": [
    "function trainresults(model)\n",
    "        # We will train 120 epochs (the following returns an iterator, does not start training)\n",
    "        training = sgd(model, ncycle(dtrn,10))\n",
    "        # We will snapshot model and train/test loss and errors\n",
    "        snapshot() = (deepcopy(model),model(dtrn),model(dtst),zeroone(model,dtrn),zeroone(model,dtst))\n",
    "        # Snapshot results once every epoch (still an iterator)\n",
    "        snapshots = (snapshot() for x in takenth(progress(training),length(dtrn)))\n",
    "        # Run the snapshot/training iterator, reshape and save results as a 5x100 array\n",
    "        lin = reshape(collect(flatten(snapshots)),(5,:))\n",
    "    return lin\n",
    "end"
   ]
  },
  {
   "cell_type": "code",
   "execution_count": 11,
   "metadata": {},
   "outputs": [
    {
     "name": "stderr",
     "output_type": "stream",
     "text": [
      "┣████████████████████┫ [100.00%, 600000/600000, 05:56/05:56, 1686.43i/s]                 ┫ [1.41%, 8443/600000, 00:06/06:33, 2655.99i/s] ▍                   ┫ [2.09%, 12568/600000, 00:08/06:00, 2187.81i/s] ▌                   ┫ [2.87%, 17192/600000, 00:10/05:33, 2323.43i/s] ▋                   ┫ [3.66%, 21946/600000, 00:12/05:15, 2503.34i/s] ▉                   ┫ [4.47%, 26834/600000, 00:14/05:03, 2636.93i/s] █                   ┫ [5.30%, 31802/600000, 00:16/04:53, 2562.26i/s] █▏                  ┫ [6.15%, 36878/600000, 00:18/04:45, 2670.68i/s] █▍                  ┫ [7.00%, 41973/600000, 00:20/04:39, 2706.80i/s] █▌                  ┫ [7.84%, 47037/600000, 00:22/04:35, 2715.98i/s] █▋                  ┫ [8.69%, 52142/600000, 00:24/04:31, 2713.67i/s] █▉                  ┫ [9.53%, 57193/600000, 00:26/04:28, 2646.11i/s] ██▎                 ┫ [11.71%, 70272/600000, 00:42/05:55, 2684.93i/s] ██▌                 ┫ [12.56%, 75367/600000, 00:44/05:47, 2712.93i/s] ██▋                 ┫ [13.39%, 80367/600000, 00:46/05:40, 2630.29i/s] ██▊                 ┫ [14.24%, 85450/600000, 00:48/05:34, 2703.98i/s] ██▉                 ┫ [14.72%, 88301/600000, 00:50/05:37, 2714.50i/s] ███                 ┫ [15.42%, 92514/600000, 00:52/05:35, 2143.19i/s] ███▏                ┫ [16.23%, 97388/600000, 00:54/05:30, 2434.85i/s] ███▍                ┫ [17.05%, 102293/600000, 00:56/05:26, 2598.01i/s] ███▌                ┫ [17.89%, 107358/600000, 00:58/05:22, 2661.12i/s] ███▋                ┫ [18.74%, 112444/600000, 01:00/05:18, 2673.76i/s] ███▉                ┫ [19.59%, 117566/600000, 01:02/05:14, 2723.69i/s] ████▎               ┫ [21.63%, 129799/600000, 01:17/05:56, 2617.33i/s] ████▍               ┫ [22.49%, 134944/600000, 01:19/05:52, 2730.21i/s] ████▋               ┫ [23.34%, 140041/600000, 01:21/05:47, 2728.29i/s] ████▊               ┫ [24.20%, 145184/600000, 01:23/05:43, 2732.59i/s] ████▉               ┫ [24.66%, 147947/600000, 01:25/05:45, 2700.10i/s] █████               ┫ [25.37%, 152210/600000, 01:27/05:43, 2108.03i/s] █████▏              ┫ [26.19%, 157130/600000, 01:29/05:40, 2456.43i/s] █████▍              ┫ [27.04%, 162212/600000, 01:31/05:37, 2665.90i/s] █████▌              ┫ [27.89%, 167327/600000, 01:33/05:34, 2721.12i/s] █████▋              ┫ [28.70%, 172171/600000, 01:35/05:31, 2439.17i/s] █████▉              ┫ [29.50%, 176985/600000, 01:37/05:29, 2565.93i/s] ██████▎             ┫ [31.73%, 190378/600000, 01:53/05:56, 2711.86i/s] ██████▌             ┫ [32.57%, 195450/600000, 01:55/05:53, 2685.66i/s] ██████▋             ┫ [33.43%, 200583/600000, 01:57/05:50, 2738.51i/s] ██████▊             ┫ [34.28%, 205699/600000, 01:59/05:47, 2716.48i/s] ██████▉             ┫ [34.74%, 208411/600000, 02:01/05:48, 2710.30i/s] ███████             ┫ [35.44%, 212613/600000, 02:03/05:47, 2084.71i/s] ███████▏            ┫ [36.24%, 217441/600000, 02:05/05:45, 2380.45i/s] ███████▍            ┫ [37.08%, 222468/600000, 02:07/05:42, 2633.98i/s] ███████▌            ┫ [37.93%, 227576/600000, 02:09/05:40, 2700.86i/s] ███████▊            ┫ [38.78%, 232686/600000, 02:11/05:37, 2734.92i/s] ███████▉            ┫ [39.59%, 237543/600000, 02:13/05:36, 2652.75i/s] ████████▉           ┫ [44.74%, 268436/600000, 02:37/05:50, 2721.16i/s] █████████           ┫ [45.47%, 272829/600000, 02:39/05:49, 2122.58i/s] ██████████▊         ┫ [54.34%, 326019/600000, 03:10/05:50, 2648.31i/s] ██████████▉         ┫ [54.96%, 329762/600000, 03:12/05:49, 2763.28i/s] ███████████▏        ┫ [55.72%, 334306/600000, 03:14/05:48, 2353.68i/s] ███████████▎        ┫ [56.54%, 339256/600000, 03:16/05:47, 2542.81i/s] ███████████▍        ┫ [57.39%, 344342/600000, 03:18/05:45, 2663.83i/s] ███████████▋        ┫ [58.21%, 349282/600000, 03:20/05:44, 2533.47i/s] ███████████▊        ┫ [59.01%, 354089/600000, 03:22/05:42, 2555.09i/s] ███████████▉        ┫ [59.82%, 358917/600000, 03:24/05:41, 2553.56i/s] ████████████▎       ┫ [61.72%, 370324/600000, 03:38/05:54, 2722.54i/s] ████████████▌       ┫ [62.57%, 375394/600000, 03:40/05:52, 2674.89i/s] ████████████▋       ┫ [63.42%, 380492/600000, 03:42/05:51, 2705.39i/s] ████████████▊       ┫ [64.22%, 385310/600000, 03:44/05:50, 2408.95i/s] ████████████▉       ┫ [64.71%, 388231/600000, 03:46/05:50, 2594.35i/s] █████████████       ┫ [65.39%, 392346/600000, 03:48/05:49, 2107.02i/s] █████████████▏      ┫ [66.19%, 397168/600000, 03:50/05:48, 2384.55i/s] █████████████▍      ┫ [67.03%, 402204/600000, 03:52/05:47, 2631.49i/s] █████████████▌      ┫ [67.88%, 407307/600000, 03:54/05:45, 2696.67i/s] █████████████▋      ┫ [68.70%, 412185/600000, 03:56/05:44, 2640.97i/s] █████████████▉      ┫ [69.54%, 417248/600000, 03:58/05:43, 2674.51i/s] ██████████████▎     ┫ [71.71%, 430267/600000, 04:14/05:54, 2704.31i/s] ██████████████▌     ┫ [72.55%, 435311/600000, 04:16/05:53, 2703.76i/s] ██████████████▋     ┫ [73.40%, 440427/600000, 04:18/05:51, 2713.53i/s] ██████████████▊     ┫ [74.26%, 445537/600000, 04:20/05:50, 2702.96i/s] ██████████████▉     ┫ [74.75%, 448518/600000, 04:22/05:50, 2768.47i/s] ███████████████     ┫ [75.47%, 452839/600000, 04:24/05:50, 2152.65i/s] ███████████████▏    ┫ [76.24%, 457451/600000, 04:26/05:49, 2400.52i/s] ███████████████▍    ┫ [77.04%, 462240/600000, 04:28/05:48, 2512.57i/s] ███████████████▌    ┫ [77.87%, 467208/600000, 04:30/05:47, 2650.44i/s] ███████████████▋    ┫ [78.72%, 472298/600000, 04:32/05:45, 2668.75i/s] ███████████████▉    ┫ [79.57%, 477405/600000, 04:34/05:44, 2706.68i/s] ████████████████    ┫ [80.00%, 480001/600000, 04:45/05:57, 21.92i/s] ████████████████▏   ┫ [80.82%, 484914/600000, 04:47/05:56, 2668.68i/s] ████████████████▉   ┫ [84.49%, 506947/600000, 04:57/05:52, 2703.48i/s] ██████████████████▋ ┫ [93.44%, 560650/600000, 05:29/05:52, 2734.84i/s] ██████████████████▊ ┫ [94.19%, 565111/600000, 05:31/05:51, 2427.57i/s] ██████████████████▉ ┫ [94.76%, 568563/600000, 05:33/05:51, 2554.48i/s] ███████████████████ ┫ [95.46%, 572783/600000, 05:35/05:51, 2228.77i/s] ███████████████████▎┫ [96.25%, 577525/600000, 05:37/05:50, 2402.90i/s] ███████████████████▍┫ [97.09%, 582544/600000, 05:39/05:49, 2600.37i/s] ███████████████████▌┫ [97.94%, 587625/600000, 05:41/05:48, 2695.92i/s] ███████████████████▊┫ [98.79%, 592755/600000, 05:43/05:47, 2716.01i/s] ███████████████████▉┫ [99.64%, 597855/600000, 05:45/05:46, 2689.71i/s] \n"
     ]
    },
    {
     "data": {
      "text/plain": [
       "5×10 Array{Any,2}:\n",
       "  Linear(P(KnetArray{Float32,2}(10,784)), P(KnetArray{Float32,1}(10)))  …   Linear(P(KnetArray{Float32,2}(10,784)), P(KnetArray{Float32,1}(10)))\n",
       " 0.942077                                                                  0.900426                                                             \n",
       " 1.01719                                                                   1.08446                                                              \n",
       " 0.125283                                                                  0.114833                                                             \n",
       " 0.1307                                                                    0.1238                                                               "
      ]
     },
     "execution_count": 11,
     "metadata": {},
     "output_type": "execute_result"
    }
   ],
   "source": [
    "lin=trainresults(Linear(784,10))"
   ]
  },
  {
   "cell_type": "markdown",
   "metadata": {},
   "source": [
    "# Visualizing learned representations\n",
    "The paper learns representations in an unsupervised setting. Even though it is supervised MLP updated with SGD in an online setting can be a used as a baseline. Model.w is the representations learned."
   ]
  },
  {
   "cell_type": "code",
   "execution_count": 12,
   "metadata": {},
   "outputs": [
    {
     "data": {
      "image/png": "[encoded data removed]",
      "text/plain": [
       "28×280 Array{Gray{Float64},2} with eltype Gray{Float64}:\n",
       " Gray{Float64}(0.496962)  Gray{Float64}(0.482099)  …  Gray{Float64}(0.508953)\n",
       " Gray{Float64}(0.495495)  Gray{Float64}(0.498907)     Gray{Float64}(0.49637) \n",
       " Gray{Float64}(0.49635)   Gray{Float64}(0.509497)     Gray{Float64}(0.516555)\n",
       " Gray{Float64}(0.491471)  Gray{Float64}(0.48146)      Gray{Float64}(0.502317)\n",
       " Gray{Float64}(0.503217)  Gray{Float64}(0.491623)     Gray{Float64}(0.501407)\n",
       " Gray{Float64}(0.494874)  Gray{Float64}(0.497082)  …  Gray{Float64}(0.505456)\n",
       " Gray{Float64}(0.504098)  Gray{Float64}(0.493168)     Gray{Float64}(0.503697)\n",
       " Gray{Float64}(0.497485)  Gray{Float64}(0.452893)     Gray{Float64}(0.477016)\n",
       " Gray{Float64}(0.499038)  Gray{Float64}(0.478516)     Gray{Float64}(0.448172)\n",
       " Gray{Float64}(0.509775)  Gray{Float64}(0.269591)     Gray{Float64}(0.473117)\n",
       " Gray{Float64}(0.50679)   Gray{Float64}(0.508665)  …  Gray{Float64}(0.491574)\n",
       " Gray{Float64}(0.499401)  Gray{Float64}(0.502421)     Gray{Float64}(0.488279)\n",
       " Gray{Float64}(0.506685)  Gray{Float64}(0.502452)     Gray{Float64}(0.509885)\n",
       " ⋮                                                 ⋱                         \n",
       " Gray{Float64}(0.502519)  Gray{Float64}(0.504498)     Gray{Float64}(0.545236)\n",
       " Gray{Float64}(0.507676)  Gray{Float64}(0.488056)     Gray{Float64}(0.866936)\n",
       " Gray{Float64}(0.50828)   Gray{Float64}(0.497085)     Gray{Float64}(0.448753)\n",
       " Gray{Float64}(0.490604)  Gray{Float64}(0.50818)      Gray{Float64}(0.499998)\n",
       " Gray{Float64}(0.494376)  Gray{Float64}(0.491405)  …  Gray{Float64}(0.488882)\n",
       " Gray{Float64}(0.504376)  Gray{Float64}(0.504702)     Gray{Float64}(0.5153)  \n",
       " Gray{Float64}(0.513589)  Gray{Float64}(0.486173)     Gray{Float64}(0.509104)\n",
       " Gray{Float64}(0.483761)  Gray{Float64}(0.499845)     Gray{Float64}(0.505178)\n",
       " Gray{Float64}(0.499042)  Gray{Float64}(0.513127)     Gray{Float64}(0.523933)\n",
       " Gray{Float64}(0.509391)  Gray{Float64}(0.50806)   …  Gray{Float64}(0.477312)\n",
       " Gray{Float64}(0.494122)  Gray{Float64}(0.495346)     Gray{Float64}(0.524481)\n",
       " Gray{Float64}(0.498093)  Gray{Float64}(0.512409)     Gray{Float64}(0.508482)"
      ]
     },
     "metadata": {},
     "output_type": "display_data"
    },
    {
     "data": {
      "text/plain": [
       "\"Epoch 9\""
      ]
     },
     "metadata": {},
     "output_type": "display_data"
    }
   ],
   "source": [
    "# Let us visualize the evolution of the weight matrix as images below\n",
    "# Each row is turned into a 28x28 image with positive weights light and negative weights dark gray\n",
    "using Images, ImageMagick\n",
    "for t in 10 .^ range(0,stop=log10(size(lin,2)),length=20) #logspace(0,2,20)\n",
    "    i = ceil(Int,t)\n",
    "    f = lin[1,i]\n",
    "    w1 = reshape(Array(value(f.w))', (28,28,1,10))\n",
    "    w2 = clamp.(w1.+0.5,0,1)\n",
    "    IJulia.clear_output(true)\n",
    "    display(hcat([mnistview(w2,i) for i=1:10]...))\n",
    "    display(\"Epoch $(i-1)\")\n",
    "    sleep(1) # (0.96^i)\n",
    "end"
   ]
  },
  {
   "cell_type": "markdown",
   "metadata": {},
   "source": [
    "# Feed output to a linear SVM to classify\n"
   ]
  },
  {
   "cell_type": "code",
   "execution_count": null,
   "metadata": {},
   "outputs": [],
   "source": []
  }
 ],
 "metadata": {
  "kernelspec": {
   "display_name": "Julia 1.3.1",
   "language": "julia",
   "name": "julia-1.3"
  },
  "language_info": {
   "file_extension": ".jl",
   "mimetype": "application/julia",
   "name": "julia",
   "version": "1.3.1"
  }
 },
 "nbformat": 4,
 "nbformat_minor": 2
}
